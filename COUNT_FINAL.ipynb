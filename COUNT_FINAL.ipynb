{
 "cells": [
  {
   "cell_type": "code",
   "execution_count": 223,
   "metadata": {},
   "outputs": [],
   "source": [
    "import cv2\n",
    "import numpy as np\n",
    "from time import sleep"
   ]
  },
  {
   "cell_type": "code",
   "execution_count": 224,
   "metadata": {},
   "outputs": [],
   "source": [
    "width_min=80 #length of the rectangle\n",
    "height_min=80 #height of the rectangle"
   ]
  },
  {
   "cell_type": "code",
   "execution_count": 225,
   "metadata": {},
   "outputs": [],
   "source": [
    "offset=10 #Error allowed between pixel\n",
    "\n",
    "pos_line=675 #Position of line at the bottom\n",
    "\n",
    "delay= 60 #FPS of vídeo\n",
    "\n",
    "detec = []\n",
    "carros= 0"
   ]
  },
  {
   "cell_type": "code",
   "execution_count": 226,
   "metadata": {},
   "outputs": [],
   "source": [
    "def center(x, y, w, h):\n",
    "    x1 = int(w / 2)\n",
    "    y1 = int(h / 2)\n",
    "    cx = x + x1\n",
    "    cy = y + y1\n",
    "    return cx,cy"
   ]
  },
  {
   "cell_type": "code",
   "execution_count": 227,
   "metadata": {},
   "outputs": [],
   "source": [
    "cap = cv2.VideoCapture('ch01_20181127091944.mp4')\n",
    "sub = cv2.bgsegm.createBackgroundSubtractorMOG()\n",
    "\n",
    "#cap.set(cv2.CAP_PROP_FRAME_WIDTH, 640)\n",
    "#cap.set(cv2.CAP_PROP_FRAME_HEIGHT, 480)\n",
    "\n",
    "#frame_width = int(cap.get(3))\n",
    "#frame_height = int(cap.get(4))\n",
    " \n",
    "#Define the codec and create VideoWriter object.The output is stored in 'output.avi' file.\n",
    "#out = cv2.VideoWriter('output.avi',cv2.VideoWriter_fourcc('M','J','P','G'), 10, (frame_width,frame_height))\n",
    "#firstFrame = None"
   ]
  },
  {
   "cell_type": "code",
   "execution_count": 228,
   "metadata": {},
   "outputs": [
    {
     "name": "stdout",
     "output_type": "stream",
     "text": [
      "Cars detected so far: 1\n",
      "Cars detected so far: 2\n",
      "Cars detected so far: 3\n"
     ]
    }
   ],
   "source": [
    "while True:\n",
    "    ret , frame = cap.read()\n",
    "    tempo = float(1/delay)\n",
    "    sleep(tempo) \n",
    "    grey = cv2.cvtColor(frame,cv2.COLOR_BGR2GRAY)\n",
    "    blur = cv2.GaussianBlur(grey,(3,3),5)\n",
    "    img_sub = sub.apply(blur)\n",
    "    dilat = cv2.dilate(img_sub,np.ones((5,5)))\n",
    "    kernel = cv2.getStructuringElement(cv2.MORPH_ELLIPSE, (5, 5))\n",
    "    dilatada = cv2.morphologyEx (dilat, cv2. MORPH_CLOSE , kernel)\n",
    "    dilatada = cv2.morphologyEx (dilatada, cv2. MORPH_CLOSE , kernel)\n",
    "    \n",
    "    img,contours,h = cv2.findContours(dilatada,cv2.RETR_TREE,cv2.CHAIN_APPROX_SIMPLE)\n",
    "    cv2.line(frame, (25, pos_line), (1500, pos_line), (255,127,0), 3) \n",
    "    for(i,c) in enumerate(contours):\n",
    "        (x,y,w,h) = cv2.boundingRect(c)\n",
    "        validate_contours = (w >= width_min) and (h >= height_min)\n",
    "        if not validate_contours:\n",
    "            continue\n",
    "\n",
    "        cv2.rectangle(frame,(x,y),(x+w,y+h),(0,255,0),2)        \n",
    "        centroid = center(x, y, w, h)\n",
    "        detec.append(centroid)\n",
    "        cv2.circle(frame, centroid, 4, (0, 0,255), -1)\n",
    "\n",
    "        for (x,y) in detec:\n",
    "            if y<(pos_line+offset) and y>(pos_line-offset):\n",
    "                carros+=1\n",
    "                cv2.line(frame, (15, pos_line), (1200, pos_line), (0,127,255), 3)  \n",
    "                detec.remove((x,y))\n",
    "                print(\"Cars detected so far: \"+str(carros))        \n",
    "       \n",
    "    cv2.putText(frame, \"Vehicle Count: \"+str(carros), (450, 70), cv2.FONT_HERSHEY_SIMPLEX, 2, (0, 0, 255),5)\n",
    "    cv2.imshow(\"Video Original\" , frame)\n",
    "    cv2.imshow(\"Detector\",dilatada)\n",
    "    \n",
    "    if cv2.waitKey(27)  & 0xFF == ord('q'):\n",
    "        break\n",
    "    \n",
    "   # if ret == True:\n",
    "    #    print('writing')\n",
    "    #out.write(frame)\n",
    "    \n",
    "    \n",
    "cv2.destroyAllWindows()\n",
    "#out.release()\n",
    "cap.release()"
   ]
  },
  {
   "cell_type": "code",
   "execution_count": null,
   "metadata": {},
   "outputs": [],
   "source": []
  }
 ],
 "metadata": {
  "kernelspec": {
   "display_name": "Python 3",
   "language": "python",
   "name": "python3"
  },
  "language_info": {
   "codemirror_mode": {
    "name": "ipython",
    "version": 3
   },
   "file_extension": ".py",
   "mimetype": "text/x-python",
   "name": "python",
   "nbconvert_exporter": "python",
   "pygments_lexer": "ipython3",
   "version": "3.6.5"
  }
 },
 "nbformat": 4,
 "nbformat_minor": 2
}
